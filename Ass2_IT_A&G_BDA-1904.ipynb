{
 "cells": [
  {
   "cell_type": "markdown",
   "metadata": {},
   "source": [
    "### Members:\n",
    "* Daniyarova Altynshash\n",
    "* Zhanbyrbayeva Gulzhanat\n",
    "\n",
    "### Group: BDA-1904"
   ]
  },
  {
   "cell_type": "markdown",
   "metadata": {},
   "source": [
    "# Assignment 2"
   ]
  },
  {
   "cell_type": "markdown",
   "metadata": {},
   "source": [
    "#### Assignment body\n",
    "* Input: “Text.txt” file (English text).\n",
    "\n",
    "\n",
    "* Goal: C++/Python/Java (or another language) program finds all symbols (not only letters) in this text and computes their probabilities out of all symbols. The most frequent symbols will have higher probabilities.\n",
    "\n",
    "\n",
    "* Output: list of all unique symbols from the text with their probabilities.\n",
    "\n",
    "\n",
    "Example:\n",
    "\n",
    "A – 0,014\n",
    "\n",
    "B – 0,012\n",
    "\n",
    "…\n",
    "\n",
    "\n",
    "* Submission: please submit the report in Word specifying responsibilities of each team member.Add general description, the screenshots of execution and source code as text. Also, please include the Github link. One combined report per group is enough. It needs to be your own work. You shouldn’t use any additional frameworks or libraries."
   ]
  },
  {
   "cell_type": "markdown",
   "metadata": {},
   "source": [
    "### Step 1"
   ]
  },
  {
   "cell_type": "code",
   "execution_count": 1,
   "metadata": {},
   "outputs": [
    {
     "data": {
      "text/plain": [
       "'Consulted perpetual of pronounce me delivered. Too months nay end change relied who beauty wishes matter. Shew of john real park so rest we on. Ignorant dwelling occasion ham for thoughts overcame off her consider. Polite it elinor is depend. His not get talked effect worthy barton. Household shameless incommode at no objection behaviour. Especially do at he possession insensible sympathize boisterous it. Songs he on an widen me event truth? Certain law age brother sending amongst why covered!'"
      ]
     },
     "execution_count": 1,
     "metadata": {},
     "output_type": "execute_result"
    }
   ],
   "source": [
    "# Let's open and read our txt file named ReadingFile.txt\n",
    "in_text = open('ReadingFile.txt','r')\n",
    "in_text = in_text.read()\n",
    "in_text"
   ]
  },
  {
   "cell_type": "markdown",
   "metadata": {},
   "source": [
    "### Step 2"
   ]
  },
  {
   "cell_type": "code",
   "execution_count": 2,
   "metadata": {},
   "outputs": [
    {
     "name": "stdout",
     "output_type": "stream",
     "text": [
      "The number of unique characters is:\n"
     ]
    },
    {
     "data": {
      "text/plain": [
       "35"
      ]
     },
     "execution_count": 2,
     "metadata": {},
     "output_type": "execute_result"
    }
   ],
   "source": [
    "# Now we find the total number of all uniques\n",
    "str = len(set(in_text))\n",
    "print('The number of unique characters is:')\n",
    "str"
   ]
  },
  {
   "cell_type": "markdown",
   "metadata": {},
   "source": [
    "### Step 3"
   ]
  },
  {
   "cell_type": "code",
   "execution_count": 3,
   "metadata": {},
   "outputs": [
    {
     "data": {
      "text/plain": [
       "[' ',\n",
       " '!',\n",
       " '.',\n",
       " '?',\n",
       " 'C',\n",
       " 'E',\n",
       " 'H',\n",
       " 'I',\n",
       " 'P',\n",
       " 'S',\n",
       " 'T',\n",
       " 'a',\n",
       " 'b',\n",
       " 'c',\n",
       " 'd',\n",
       " 'e',\n",
       " 'f',\n",
       " 'g',\n",
       " 'h',\n",
       " 'i',\n",
       " 'j',\n",
       " 'k',\n",
       " 'l',\n",
       " 'm',\n",
       " 'n',\n",
       " 'o',\n",
       " 'p',\n",
       " 'r',\n",
       " 's',\n",
       " 't',\n",
       " 'u',\n",
       " 'v',\n",
       " 'w',\n",
       " 'y',\n",
       " 'z']"
      ]
     },
     "execution_count": 3,
     "metadata": {},
     "output_type": "execute_result"
    }
   ],
   "source": [
    "# Let's convert our variable to list for using method sort()\n",
    "w_text = list(set(in_text))\n",
    "w_text.sort()\n",
    "w_text"
   ]
  },
  {
   "cell_type": "markdown",
   "metadata": {},
   "source": [
    "### Step 4"
   ]
  },
  {
   "cell_type": "code",
   "execution_count": 4,
   "metadata": {},
   "outputs": [
    {
     "data": {
      "text/plain": [
       "{' ': 78,\n",
       " '!': 1,\n",
       " '.': 8,\n",
       " '?': 1,\n",
       " 'C': 2,\n",
       " 'E': 1,\n",
       " 'H': 2,\n",
       " 'I': 1,\n",
       " 'P': 1,\n",
       " 'S': 2,\n",
       " 'T': 1,\n",
       " 'a': 24,\n",
       " 'b': 7,\n",
       " 'c': 11,\n",
       " 'd': 16,\n",
       " 'e': 56,\n",
       " 'f': 7,\n",
       " 'g': 9,\n",
       " 'h': 20,\n",
       " 'i': 24,\n",
       " 'j': 2,\n",
       " 'k': 2,\n",
       " 'l': 16,\n",
       " 'm': 11,\n",
       " 'n': 33,\n",
       " 'o': 43,\n",
       " 'p': 8,\n",
       " 'r': 23,\n",
       " 's': 28,\n",
       " 't': 30,\n",
       " 'u': 9,\n",
       " 'v': 5,\n",
       " 'w': 9,\n",
       " 'y': 6,\n",
       " 'z': 1}"
      ]
     },
     "execution_count": 4,
     "metadata": {},
     "output_type": "execute_result"
    }
   ],
   "source": [
    "# Now we create a dictionary of uniques and their frequencies\n",
    "our_dict = {\n",
    "    symbol: len([a for a in in_text \n",
    "                if a == symbol])\n",
    "    for symbol in w_text\n",
    "}\n",
    "our_dict"
   ]
  },
  {
   "cell_type": "markdown",
   "metadata": {},
   "source": [
    "### Final Step"
   ]
  },
  {
   "cell_type": "code",
   "execution_count": 5,
   "metadata": {},
   "outputs": [
    {
     "data": {
      "text/plain": [
       "{' ': 0.1566,\n",
       " '!': 0.002,\n",
       " '.': 0.0161,\n",
       " '?': 0.002,\n",
       " 'C': 0.004,\n",
       " 'E': 0.002,\n",
       " 'H': 0.004,\n",
       " 'I': 0.002,\n",
       " 'P': 0.002,\n",
       " 'S': 0.004,\n",
       " 'T': 0.002,\n",
       " 'a': 0.0482,\n",
       " 'b': 0.0141,\n",
       " 'c': 0.0221,\n",
       " 'd': 0.0321,\n",
       " 'e': 0.1124,\n",
       " 'f': 0.0141,\n",
       " 'g': 0.0181,\n",
       " 'h': 0.0402,\n",
       " 'i': 0.0482,\n",
       " 'j': 0.004,\n",
       " 'k': 0.004,\n",
       " 'l': 0.0321,\n",
       " 'm': 0.0221,\n",
       " 'n': 0.0663,\n",
       " 'o': 0.0863,\n",
       " 'p': 0.0161,\n",
       " 'r': 0.0462,\n",
       " 's': 0.0562,\n",
       " 't': 0.0602,\n",
       " 'u': 0.0181,\n",
       " 'v': 0.01,\n",
       " 'w': 0.0181,\n",
       " 'y': 0.012,\n",
       " 'z': 0.002}"
      ]
     },
     "execution_count": 5,
     "metadata": {},
     "output_type": "execute_result"
    }
   ],
   "source": [
    "#Here we find probabilities for each symbol\n",
    "for each in our_dict:\n",
    "    our_dict[each] = round(our_dict[each]/len(in_text), 4)\n",
    "our_dict"
   ]
  },
  {
   "cell_type": "markdown",
   "metadata": {},
   "source": [
    "# The end!"
   ]
  },
  {
   "cell_type": "code",
   "execution_count": null,
   "metadata": {},
   "outputs": [],
   "source": []
  }
 ],
 "metadata": {
  "kernelspec": {
   "display_name": "Python 3",
   "language": "python",
   "name": "python3"
  },
  "language_info": {
   "codemirror_mode": {
    "name": "ipython",
    "version": 3
   },
   "file_extension": ".py",
   "mimetype": "text/x-python",
   "name": "python",
   "nbconvert_exporter": "python",
   "pygments_lexer": "ipython3",
   "version": "3.8.3"
  }
 },
 "nbformat": 4,
 "nbformat_minor": 4
}
